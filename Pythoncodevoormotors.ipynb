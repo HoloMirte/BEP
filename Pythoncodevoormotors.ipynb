{
 "cells": [
  {
   "cell_type": "markdown",
   "metadata": {},
   "source": [
    "De cel hieronder hoef je slechts 1 maal te runnen nadat je deze file geopend hebt. Hij laadt dan een aantal libraries, en creeert een nieuwe rosnode die ik WB223_testnode heb genoemd. Nadat je deze cell gerund hebt, kun je dat checken via jouw SSH verbinding (MobaXterm). Als je dan het commando \"rosnode list\" typt, zou deze nieuwe node er tussen moeten staan.\n",
    "\n",
    "Daarna creeert onderstaande cell twee nieuwe commando's die ik SetRightSpeed en SetLeftSpeed genoemd heb. Hun functie spreekt voor zich. Doordat deze twee commando's nu bestaan, kunnen we ze straks in andere cells gaan gebruiken."
   ]
  },
  {
   "cell_type": "code",
   "execution_count": 1,
   "metadata": {},
   "outputs": [],
   "source": [
    "import rospy as rp\n",
    "import jupyros as jr\n",
    "from __future__ import print_function\n",
    "from geometry_msgs.msg import Pose, Vector3\n",
    "from mirte_msgs.msg import *\n",
    "from mirte_msgs.srv import *\n",
    "from sensor_msgs.msg import *\n",
    "from std_srvs.srv import *\n",
    "import time\n",
    "\n",
    "rp.init_node('WB2232_testnode')\n",
    "\n",
    "SetRightSpeed = rp.ServiceProxy('/mirte/set_right_speed', SetMotorSpeed)\n",
    "SetLeftSpeed = rp.ServiceProxy('/mirte/set_left_speed', SetMotorSpeed)\n",
    "GetDistanceLeft = rp.ServiceProxy('/mirte/get_distance_left',GetDistance)"
   ]
  },
  {
   "cell_type": "markdown",
   "metadata": {},
   "source": [
    "Hieronder zie je twee cellen waarmee je de motoren aan en uit kunt zetten. Het is makkelijker om voor elke motor twee cellen te hebben, zodat je makkelijk kan wisselen tussen twee verschillende PWM waarden door die twee cellen afwisselend te runnen. Je kunt extra cellen maken met het + knopje hierboven. De commando's geven een output die altijd \"true\" is, tenzij er een error is opgetreden."
   ]
  },
  {
   "cell_type": "code",
   "execution_count": 5,
   "metadata": {},
   "outputs": [
    {
     "data": {
      "text/plain": [
       "status: True"
      ]
     },
     "execution_count": 5,
     "metadata": {},
     "output_type": "execute_result"
    }
   ],
   "source": [
    "SetRightSpeed(0)\n"
   ]
  },
  {
   "cell_type": "code",
   "execution_count": 3,
   "metadata": {},
   "outputs": [
    {
     "data": {
      "text/plain": [
       "status: True"
      ]
     },
     "execution_count": 3,
     "metadata": {},
     "output_type": "execute_result"
    }
   ],
   "source": [
    "SetLeftSpeed(0)\n"
   ]
  },
  {
   "cell_type": "markdown",
   "metadata": {},
   "source": [
    "En laten we dan ook gelijk even de sonar testen:"
   ]
  },
  {
   "cell_type": "code",
   "execution_count": 7,
   "metadata": {},
   "outputs": [
    {
     "name": "stdout",
     "output_type": "stream",
     "text": [
      "7.0\n"
     ]
    }
   ],
   "source": [
    "afstand = GetDistanceLeft()\n",
    "print(afstand.data)"
   ]
  },
  {
   "cell_type": "markdown",
   "metadata": {},
   "source": [
    "Het is ook wel handig om even je Python kennis op te frissen en gewoon wat te proberen. In de cell hieronder kun je even wat simpele commando's uitproberen, zoals 'hello world' printen. Je kunt zelf meerdere cells maken als je wat meer wilt testen. Als alles vastloopt, moet je deze file opslaan, dit tabblad afsluiten, en in het tabblad dat \"home\" heet even zorgen dat de file \"WB2232_2021_test.ipynb\" stopt met runnen. Daarna kun je hem opnieuw openen.\n",
    "\n",
    "***let op: alles wat je hier doet, staat dus op de robot. Dus als alles in de soep loopt en je wilt je SD card even opnieuw flashen om opnieuw te beginnen, dan ben je deze file dus kwijt. Daarom moet je af en toe in het \"home\" tabblad deze file selecteren en downloaden naar je eigen computer."
   ]
  },
  {
   "cell_type": "code",
   "execution_count": 6,
   "metadata": {},
   "outputs": [
    {
     "name": "stdout",
     "output_type": "stream",
     "text": [
      "0.3333333333333333\n"
     ]
    }
   ],
   "source": [
    "#mijn Python test\n",
    "a = 2\n",
    "b = 6\n",
    "c = a/b\n",
    "print(c)\n"
   ]
  },
  {
   "cell_type": "markdown",
   "metadata": {},
   "source": [
    "En dan nu een eerste poging tot een controller. Deze moet je ombouwen tot een goede P-regelaar die zorgt dat de robot een afstand van XX cm van de muur moet houden, waarbij XX gelijk is aan de eerste twee cijfers van één van jullie studienummers. Je kunt een regelaar maken met een \"while\" loop, maar dan stopt hij nooit meer. Daarom doen we het voorlopig even met een \"for\" loop."
   ]
  },
  {
   "cell_type": "code",
   "execution_count": 9,
   "metadata": {},
   "outputs": [
    {
     "data": {
      "text/plain": [
       "status: True"
      ]
     },
     "execution_count": 9,
     "metadata": {},
     "output_type": "execute_result"
    }
   ],
   "source": [
    "for i in range(100):\n",
    "    afstand = GetDistanceLeft()\n",
    "    s = int(afstand.data)\n",
    "    SetLeftSpeed(s)\n",
    "    time.sleep(0.2)    \n",
    "#nog even na afloop de motor weer stoppen:\n",
    "SetLeftSpeed(0)"
   ]
  }
 ],
 "metadata": {
  "kernelspec": {
   "display_name": "Python 3 (ipykernel)",
   "language": "python",
   "name": "python3"
  },
  "language_info": {
   "codemirror_mode": {
    "name": "ipython",
    "version": 3
   },
   "file_extension": ".py",
   "mimetype": "text/x-python",
   "name": "python",
   "nbconvert_exporter": "python",
   "pygments_lexer": "ipython3",
   "version": "3.8.10"
  }
 },
 "nbformat": 4,
 "nbformat_minor": 2
}
